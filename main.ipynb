{
 "cells": [
  {
   "cell_type": "code",
   "execution_count": 1,
   "metadata": {},
   "outputs": [],
   "source": [
    "import pandas as pd\n",
    "import numpy as np\n",
    "\n",
    "train1 = pd.read_csv('data\\mnist_train_0_1.csv', header= 0)\n",
    "test1 = pd.read_csv('data\\mnist_test_0_1.csv', header= 0)\n",
    "\n",
    "train_data = np.array(train1)\n",
    "workingData = train_data\n",
    "\n",
    "test_data = np.array(test1)\n",
    "test_data.shape\n",
    "\n",
    "data = train_data"
   ]
  },
  {
   "cell_type": "code",
   "execution_count": 6,
   "metadata": {},
   "outputs": [
    {
     "name": "stderr",
     "output_type": "stream",
     "text": [
      "C:\\Users\\18595\\AppData\\Local\\Temp\\ipykernel_5108\\1066387959.py:5: RuntimeWarning: overflow encountered in exp\n",
      "  return 1/ (1 + np.exp(-x))\n"
     ]
    },
    {
     "name": "stdout",
     "output_type": "stream",
     "text": [
      "0.5036323436512951\n",
      "0.9938408085912823\n",
      "final accuracy:\n",
      "0.9943235572374646\n"
     ]
    }
   ],
   "source": [
    "class MLT: \n",
    "        \n",
    "    def sigmoid(x):\n",
    "        try :\n",
    "            return 1/ (1 + np.exp(-x))\n",
    "        except : \n",
    "            if(x < 0):\n",
    "                return 0\n",
    "            if (x > 0):\n",
    "                return 1\n",
    "\n",
    "    def forward(inputs, wxh, who):\n",
    "        hidden_layer = MLT.sigmoid(np.dot(inputs,wxh.T))\n",
    "        output = MLT.sigmoid(np.dot(hidden_layer, who.T))\n",
    "\n",
    "        return hidden_layer, output\n",
    "    \n",
    "    def update(who, alpha, deltao, hidden, wxh, deltah, inputs):\n",
    "        new_who = who + alpha * deltao.T * hidden\n",
    "        new_wxh = wxh + alpha * deltah.T * inputs\n",
    "        return new_who, new_wxh\n",
    "\n",
    "\n",
    "\n",
    "\n",
    "mlt = MLT\n",
    "class helper:\n",
    "    def to_class_label(output):\n",
    "        max_value = index = 0\n",
    "        output = output.flatten()\n",
    "        for idx, point in enumerate(output):\n",
    "            if point > max_value:\n",
    "                max_value = point\n",
    "                index = idx\n",
    "\n",
    "        return index\n",
    "    \n",
    "    def label_to_vector(expected, output):\n",
    "        vect = []\n",
    "        for index in range(len(output.flatten())):\n",
    "            if expected == index:\n",
    "                vect.append(1)\n",
    "            else:\n",
    "                vect.append(0)\n",
    "        return vect\n",
    "\n",
    "    def calculate_deltas(output, error, hidden, who):\n",
    "        deltao = output * (1 - output) * error\n",
    "        deltah = hidden * (1 - hidden) * np.dot(deltao, who)\n",
    "        return deltao, deltah\n",
    "    \n",
    "    def calc_accuracy(data, wxh, who):\n",
    "        right =  wrong = 0\n",
    "\n",
    "        for sample in data:\n",
    "            point = np.array([sample[1:]])\n",
    "            class_label = sample[0]\n",
    "\n",
    "            hidden, output = mlt.forward(point, wxh, who)\n",
    "            guess_Label = helper.to_class_label(output)\n",
    "\n",
    "            if guess_Label == class_label:\n",
    "                right += 1\n",
    "            else:\n",
    "                wrong += 1\n",
    "            \n",
    "        return right, wrong\n",
    "\n",
    "    def error_calc(expected, predicted):\n",
    "        return helper.label_to_vector(expected, predicted) - predicted\n",
    "\n",
    "\n",
    "who = np.random.uniform(-1,1, size=(2,32))\n",
    "output = np.array([range(2)])\n",
    "\n",
    "wxh = np.random.uniform(-1,1,size=(32, 784))\n",
    "hs = np.array([range(28)])\n",
    "bh = np.array([0.5 for x in hs])\n",
    "bo = np.array([0.5 for x in output])\n",
    "alpha = 0.01\n",
    "\n",
    "print(helper.calc_accuracy(data, wxh, who)[0] / len(data))\n",
    "\n",
    "epochs = ratio = 0\n",
    "samples = data\n",
    "\n",
    "while epochs < 100 and (1 - ratio) > 0.05:\n",
    "    epochs += 1\n",
    "    np.random.shuffle(samples)\n",
    "    for sample in samples: \n",
    "        xs = np.array([sample[1:]])\n",
    "        hs, output = mlt.forward(xs, wxh, who)\n",
    "        error = helper.error_calc(sample[0], output)\n",
    "        deltao, deltah = helper.calculate_deltas(output, error, hs, who)\n",
    "        who, wxh = mlt.update(who, alpha, deltao, hs, wxh, deltah, xs)\n",
    "    correct = helper.calc_accuracy(data, wxh, who)[0]\n",
    "    ratio = correct / len(data)\n",
    "    print(ratio)\n",
    "\n",
    "print(\"final accuracy:\")\n",
    "print(helper.calc_accuracy(test_data, wxh, who)[0] / len(test_data))\n",
    "\n",
    "\n",
    "\n",
    "\n",
    "\n"
   ]
  },
  {
   "attachments": {},
   "cell_type": "markdown",
   "metadata": {},
   "source": [
    "# BONUS\n"
   ]
  },
  {
   "cell_type": "code",
   "execution_count": 11,
   "metadata": {},
   "outputs": [
    {
     "name": "stderr",
     "output_type": "stream",
     "text": [
      "C:\\Users\\18595\\AppData\\Local\\Temp\\ipykernel_10848\\1458480613.py:5: RuntimeWarning: overflow encountered in exp\n",
      "  return 1/ (1 + np.exp(-x))\n"
     ]
    },
    {
     "name": "stdout",
     "output_type": "stream",
     "text": [
      "0.2078332280480101\n",
      "0.9921825647504738\n",
      "final accuracy:\n",
      "0.9947965941343425\n"
     ]
    }
   ],
   "source": [
    "who = np.random.uniform(-1,1, size=(5,28))\n",
    "output = np.array([range(5)])\n",
    "\n",
    "wxh = np.random.uniform(-1,1,size=(28, 784))\n",
    "hs = np.array([range(28)])\n",
    "bh = np.array([0.5 for x in hs])\n",
    "bo = np.array([0.5 for x in output])\n",
    "alpha = 0.01\n",
    "\n",
    "print(helper.calc_accuracy(data, wxh, who)[0] / len(data))\n",
    "\n",
    "epochs = ratio = 0\n",
    "samples = data\n",
    "\n",
    "while epochs < 100 and (1 - ratio) > 0.05:\n",
    "    epochs += 1\n",
    "    np.random.shuffle(samples)\n",
    "    for sample in samples: \n",
    "        xs = np.array([sample[1:]])\n",
    "        hs, output = mlt.forward(xs, wxh, who)\n",
    "        error = helper.error_calc(sample[0], output)\n",
    "        deltao, deltah = helper.calculate_deltas(output, error, hs, who)\n",
    "        who, wxh = mlt.update(who, alpha, deltao, hs, wxh, deltah, xs)\n",
    "    correct = helper.calc_accuracy(data, wxh, who)[0]\n",
    "    ratio = correct / len(data)\n",
    "    print(ratio)\n",
    "\n",
    "print(\"final accuracy:\")\n",
    "print(helper.calc_accuracy(test_data, wxh, who)[0] / len(test_data))\n",
    "\n",
    "\n",
    "\n",
    "\n",
    "\n"
   ]
  }
 ],
 "metadata": {
  "kernelspec": {
   "display_name": "base",
   "language": "python",
   "name": "python3"
  },
  "language_info": {
   "codemirror_mode": {
    "name": "ipython",
    "version": 3
   },
   "file_extension": ".py",
   "mimetype": "text/x-python",
   "name": "python",
   "nbconvert_exporter": "python",
   "pygments_lexer": "ipython3",
   "version": "3.9.12"
  },
  "orig_nbformat": 4,
  "vscode": {
   "interpreter": {
    "hash": "57279b1f8ab34c5e05b79187a57f554f106338f30a65896aafc1120729eab81b"
   }
  }
 },
 "nbformat": 4,
 "nbformat_minor": 2
}
